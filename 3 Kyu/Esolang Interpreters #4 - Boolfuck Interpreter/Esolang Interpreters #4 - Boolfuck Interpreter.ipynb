{
 "cells": [
  {
   "cell_type": "markdown",
   "id": "af7a75b3",
   "metadata": {},
   "source": [
    "# Esolang Interpreters #4 - Boolfuck Interpreter"
   ]
  },
  {
   "cell_type": "markdown",
   "id": "18e36dbd",
   "metadata": {},
   "source": [
    "## The Task\n",
    "Write a Boolfuck interpreter which accepts up to two arguments. The first (required) argument is the Boolfuck code in the form of a string. The second (optional) argument is the input passed in by the end-user (i.e. as actual characters not bits) which should default to \"\" if not provided. Your interpreter should return the output as actual characters (not bits!) as a string.\n",
    "\n",
    "```js\n",
    "function boolfuck (code, input = \"\")\n",
    "```\n",
    "\n",
    "Preloaded for you is a function `brainfuckToBoolfuck()`/`brainfuck_to_boolfuck()`/`BrainfuckToBoolfuck()` which accepts 1 required argument (the Brainfuck code) and returns its Boolfuck equivalent should you find it useful.\n",
    "\n",
    "Please note that your interpreter should simply ignore any non-command characters. **This will be tested in the test cases.**"
   ]
  },
  {
   "cell_type": "markdown",
   "id": "b0b95beb",
   "metadata": {},
   "source": [
    "## My Solution to the Kata\n",
    "\n",
    "```js\n",
    "let boolfuck = (code, input = \"\") => {\n",
    "    const inputBits = [...input].flatMap(char =>\n",
    "        char.charCodeAt().toString(2).padStart(8, '0').split(\"\").reverse().map(Number)\n",
    "    );\n",
    "\n",
    "    let memory = [0], pointer = 0, inputPointer = 0, outputBits = \"\", stack = [], instructionPointer = 0;\n",
    "\n",
    "    while (instructionPointer < code.length) {\n",
    "        const cmd = code[instructionPointer];\n",
    "        switch (cmd) {\n",
    "            case '>': pointer++; if (pointer >= memory.length) memory.push(0); break;\n",
    "            case '<': pointer--; if (pointer < 0) { memory.unshift(0); pointer = 0; } break;\n",
    "            case '+': memory[pointer] ^= 1; break;\n",
    "            case ';': outputBits += memory[pointer]; break;\n",
    "            case ',': memory[pointer] = inputPointer < inputBits.length ? inputBits[inputPointer++] : 0; break;\n",
    "            case '[':\n",
    "                if (memory[pointer] === 0) {\n",
    "                    let balance = 1;\n",
    "                    while (balance > 0 && ++instructionPointer < code.length) {\n",
    "                        if (code[instructionPointer] === '[') balance++;\n",
    "                        else if (code[instructionPointer] === ']') balance--;\n",
    "                    }\n",
    "                } else stack.push(instructionPointer);\n",
    "                break;\n",
    "            case ']':\n",
    "                if (memory[pointer] !== 0) instructionPointer = stack[stack.length - 1];\n",
    "                else stack.pop();\n",
    "                break;\n",
    "        }\n",
    "        instructionPointer++;\n",
    "    }\n",
    "\n",
    "    const bytes = outputBits.match(/.{1,8}/g) || [];\n",
    "    return bytes.map(byte =>\n",
    "        String.fromCharCode(parseInt(byte.padEnd(8, '0').split(\"\").reverse().join(\"\"), 2))\n",
    "    ).join('');\n",
    "}\n",
    "```"
   ]
  },
  {
   "cell_type": "markdown",
   "id": "c2235818",
   "metadata": {},
   "source": [
    "## Explanation"
   ]
  },
  {
   "cell_type": "markdown",
   "id": "a419cffd",
   "metadata": {},
   "source": [
    "### The Function\n",
    "\n",
    "```js\n",
    "let boolfuck = (code, input = \"\") => { ... }\n",
    "```\n",
    "\n",
    "- **`code`:** Required input. This represents as a string that the interpreter will execute.\n",
    "\n",
    "- **`input = \"\"`:** An optional argument. This defaults the to an empty string (`\"\"`)."
   ]
  },
  {
   "cell_type": "markdown",
   "id": "25ee2c0e",
   "metadata": {},
   "source": [
    "### Convert Input Into bits\n",
    "\n",
    "```js\n",
    "const inputBits = [...input].flatMap(char =>\n",
    "        char.charCodeAt().toString(2).padStart(8, '0').split(\"\").reverse().map(Number)\n",
    ");\n",
    "```\n",
    "\n",
    "- The `input` string is converted into an array of characters using `[...]input` <br> ( [[...input] The Spread Operator](https://developer.mozilla.org/en-US/docs/Web/JavaScript/Reference/Operators/Spread_syntax) ).\n",
    "\n",
    "- For each character in the input, its Unicode code point is obtained using `charCodeAt()`.\n",
    "\n",
    "- This code point is then converted into an 8-bit binary string (with leading zeros if needed), using `toString(2).padStart(8, '0')`.\n",
    "\n",
    "- The string is reversed `(split(\"\").reverse())` so that the least significant bit (LSB) comes first.\n",
    "\n",
    "- The reversed bits are then converted into an array of numbers (`map(Number)`).\n",
    "\n",
    "This process effectively converts the input string into a bit array, where each bit corresponds to a value from the binary representation of the input characters. "
   ]
  },
  {
   "cell_type": "markdown",
   "id": "ac0e0ae5",
   "metadata": {},
   "source": [
    "### Initialize Memory and Other Variables\n",
    "\n",
    "```js\n",
    "let memory = [0], pointer = 0, inputPointer = 0, outputBits = \"\", stack = [], instructionPointer = 0;\n",
    "```\n",
    "\n",
    "- **`memory`:** A memory array initialized with a single `0` value, representing the current memory cell. The memory pointer (`pointer`) will refer to the current cell.\n",
    "\n",
    "- **`pointer`:** Points to the current memory cell, initialized to `0`.\n",
    "\n",
    "- **`inputPointer`:** Tracks the position of the current input bit, starting at `0`.\n",
    "\n",
    "- **`outputBits`:** An empty string to store the output as binary bits.\n",
    "\n",
    "- **`stack`:** A stack to manage loop operations (for handling the `[` and `]`).\n",
    "\n",
    "- **`instructionPointer`:** Tracks the current instruction's position within the code."
   ]
  },
  {
   "cell_type": "markdown",
   "id": "727d8f72",
   "metadata": {},
   "source": [
    "### Interpreter Loop\n",
    "\n",
    "```js\n",
    "while (instructionPointer < code.length) {\n",
    "    const cmd = code[instructionPointer];\n",
    "    switch (cmd) {\n",
    "        case '>': pointer++; if (pointer >= memory.length) memory.push(0); break;\n",
    "        case '<': pointer--; if (pointer < 0) { memory.unshift(0); pointer = 0; } break;\n",
    "        case '+': memory[pointer] ^= 1; break;\n",
    "        case ';': outputBits += memory[pointer]; break;\n",
    "        case ',': memory[pointer] = inputPointer < inputBits.length ? inputBits[inputPointer++] : 0; break;\n",
    "        case '[':\n",
    "            if (memory[pointer] === 0) {\n",
    "                let balance = 1;\n",
    "                while (balance > 0 && ++instructionPointer < code.length) {\n",
    "                    if (code[instructionPointer] === '[') balance++;\n",
    "                    else if (code[instructionPointer] === ']') balance--;\n",
    "                }\n",
    "            } else stack.push(instructionPointer);\n",
    "            break;\n",
    "        case ']':\n",
    "            if (memory[pointer] !== 0) instructionPointer = stack[stack.length - 1];\n",
    "            else stack.pop();\n",
    "            break;\n",
    "    }\n",
    "    instructionPointer++;\n",
    "}\n",
    "```\n",
    "\n",
    "1. **`while (instructionPointer < code.length)`:** The loop runs through each instruction in the `code` string.\n",
    "\n",
    "2. **`switch(cmd)`:** Checks the current instruction `cmd` form the `code` string and performs corresponding actions:\n",
    "    - **`>`:** Increment the memory pointer (`pointer`). If the pointer exceeds the current memory array size, a new memory cell (`0`) is added.\n",
    "    - **`<`:** Decrement the memory pointer. If it goes below `0`, a new memory cell (`0`) is added at the beginning, and the pointer is reset to `0`.\n",
    "    - **`+`:** Flip the current bit at the memory pointer. This operation uses the XOR (`^= 1`) to toggle the bit between `0` and `1`.\n",
    "    - **`;`:** Append the current bit from the memory cell to the outputBits string.\n",
    "    - **`,`:** Set the current memory cell to a bit from the input (from `inputBits`). The `inputPointer` tracks the current position in the input, and if all input bits are used, the memory cell is set to `0`.\n",
    "    - **`[`:** This command starts a loop. If the current memory cell is `0`, the interpreter jumps to the matching `]` (skipping the loop). Otherwise, the current instruction pointer is pushed onto the stack.\n",
    "    - **`]`:** If the current memory cell is non-zero, jump back to the matching `[` (loop continuation). If the memory cell is `0`, pop the instruction from the stack and continue."
   ]
  },
  {
   "cell_type": "markdown",
   "id": "5ee3349c",
   "metadata": {},
   "source": [
    "### Convert The Output Binary String to Actual Characters\n",
    "\n",
    "```js\n",
    "const bytes = outputBits.match(/.{1,8}/g) || [];\n",
    "return bytes.map(byte =>\n",
    "    String.fromCharCode(parseInt(byte.padEnd(8, '0').split(\"\").reverse().join(\"\"), 2))\n",
    ").join('');\n",
    "```\n",
    "\n",
    "- The `outputBits` string is grouped into chunks of 8 bits using `match(/.{1,8}/g)`, which correspond to bytes.\n",
    "\n",
    "- For each byte:\n",
    "    - It is padded with zeros to ensure it is 8 bits (`padEnd(8, '0')`). <br> [`padEnd()`](https://developer.mozilla.org/en-US/docs/Web/JavaScript/Reference/Global_Objects/String/padEnd)\n",
    "    - The byte is reversed to restore the original order of bits.\n",
    "    - The byte is then converted back to a decimal number using `parseInt(..., 2)`. <br> [`parseInt()`](https://developer.mozilla.org/en-US/docs/Web/JavaScript/Reference/Global_Objects/parseInt)\n",
    "    - `string.fromCharCode()` converts the number back to a character. <br> [`fromCharCode()`](https://developer.mozilla.org/en-US/docs/Web/JavaScript/Reference/Global_Objects/String/fromCharCode)\n",
    "\n",
    "- The resulting characters are joined together into a final string."
   ]
  },
  {
   "cell_type": "markdown",
   "id": "f6db1ce4",
   "metadata": {},
   "source": [
    "## On a Final Note\n",
    "\n",
    "The **Boolfuck interpreter** executes the code by emulating its fundamental memory architecture and instruction set. It manipulates memory, manages input and output in binary format, and facilitates looping. It provides the output as a string of characters instead of raw bits."
   ]
  },
  {
   "cell_type": "code",
   "execution_count": null,
   "id": "c3cfef46",
   "metadata": {},
   "outputs": [],
   "source": []
  }
 ],
 "metadata": {
  "kernelspec": {
   "display_name": "Python 3 (ipykernel)",
   "language": "python",
   "name": "python3"
  },
  "language_info": {
   "codemirror_mode": {
    "name": "ipython",
    "version": 3
   },
   "file_extension": ".py",
   "mimetype": "text/x-python",
   "name": "python",
   "nbconvert_exporter": "python",
   "pygments_lexer": "ipython3",
   "version": "3.9.2"
  }
 },
 "nbformat": 4,
 "nbformat_minor": 5
}
