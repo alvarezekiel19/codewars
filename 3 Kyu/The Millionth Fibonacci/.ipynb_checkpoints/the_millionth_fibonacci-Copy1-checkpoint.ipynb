{
 "cells": [
  {
   "cell_type": "markdown",
   "id": "1ac0a524",
   "metadata": {},
   "source": [
    "# The Millionth Fibonacci"
   ]
  },
  {
   "cell_type": "markdown",
   "id": "b6a96ed4",
   "metadata": {},
   "source": [
    "This code calculates the Fibonacci numbers efficiently using a technique \n",
    "called **\"Fast Doubling\"**. It leverages the power of recursion and \n",
    "mathematical properties of Fibonacci numbers to compute them in \n",
    "***logarithmic time*** `O(log n)`. The approach is both space and time efficient, \n",
    "making it suitable for calculating very large Fibonacci numbers, even for \n",
    "indices like `n = 2,000,000`."
   ]
  },
  {
   "cell_type": "markdown",
   "id": "5682a2f6",
   "metadata": {},
   "source": [
    "## The Whole Code"
   ]
  },
  {
   "cell_type": "markdown",
   "id": "b8b416d9",
   "metadata": {},
   "source": [
    "```js\n",
    "let calc = (n) => {\n",
    "    if (n === 0) {\n",
    "        return [BigInt(0), BigInt(1)];\n",
    "    } else if (n === 1) {\n",
    "        return [BigInt(1), BigInt(1)];\n",
    "    } else {\n",
    "        let [x, y] = calc(Math.floor(n / 2));\n",
    "        let h = x * (2n * y - x);\n",
    "        let q = y * y + x * x;\n",
    "        return n % 2 === 0 ? [h, q] : [q, h + q];\n",
    "    }\n",
    "}\n",
    "\n",
    "let fib = (n) => {\n",
    "    if (n >= 0) {\n",
    "        return calc(n)[0];\n",
    "    } else {\n",
    "        return n % 2 === 0 ? -calc(-n)[0] : calc(-n)[0];\n",
    "    }\n",
    "}\n",
    "```"
   ]
  },
  {
   "cell_type": "code",
   "execution_count": null,
   "id": "5590048a",
   "metadata": {},
   "outputs": [],
   "source": []
  }
 ],
 "metadata": {
  "kernelspec": {
   "display_name": "Python 3 (ipykernel)",
   "language": "python",
   "name": "python3"
  },
  "language_info": {
   "codemirror_mode": {
    "name": "ipython",
    "version": 3
   },
   "file_extension": ".py",
   "mimetype": "text/x-python",
   "name": "python",
   "nbconvert_exporter": "python",
   "pygments_lexer": "ipython3",
   "version": "3.9.2"
  }
 },
 "nbformat": 4,
 "nbformat_minor": 5
}
