{
 "cells": [
  {
   "cell_type": "markdown",
   "id": "1ac0a524",
   "metadata": {},
   "source": [
    "# The Millionth Fibonacci"
   ]
  },
  {
   "cell_type": "markdown",
   "id": "b6a96ed4",
   "metadata": {},
   "source": [
    "This code calculates the Fibonacci numbers efficiently using a technique \n",
    "called **\"Fast Doubling\"**. It leverages the power of recursion and \n",
    "mathematical properties of Fibonacci numbers to compute them in \n",
    "***logarithmic time*** `O(log n)`. The approach is both space and time efficient, \n",
    "making it suitable for calculating very large Fibonacci numbers, even for \n",
    "indices like `n = 2,000,000`."
   ]
  },
  {
   "cell_type": "markdown",
   "id": "5682a2f6",
   "metadata": {},
   "source": [
    "## The Whole Code"
   ]
  },
  {
   "cell_type": "markdown",
   "id": "b8b416d9",
   "metadata": {},
   "source": [
    "```js\n",
    "let calc = (n) => {\n",
    "    if (n === 0) {\n",
    "        return [BigInt(0), BigInt(1)];\n",
    "    } else if (n === 1) {\n",
    "        return [BigInt(1), BigInt(1)];\n",
    "    } else {\n",
    "        let [x, y] = calc(Math.floor(n / 2));\n",
    "        let h = x * (2n * y - x);\n",
    "        let q = y * y + x * x;\n",
    "        return n % 2 === 0 ? [h, q] : [q, h + q];\n",
    "    }\n",
    "}\n",
    "\n",
    "let fib = (n) => {\n",
    "    if (n >= 0) {\n",
    "        return calc(n)[0];\n",
    "    } else {\n",
    "        return n % 2 === 0 ? -calc(-n)[0] : calc(-n)[0];\n",
    "    }\n",
    "}\n",
    "\n",
    "// Test\n",
    "console.log(fib(0)); // 0n\n",
    "console.log(fib(1)); // 1n\n",
    "console.log(fib(2)); // 1n\n",
    "console.log(fib(3)); // 2n\n",
    "console.log(fib(4)); // 3n\n",
    "console.log(fib(5)); // 5n\n",
    "console.log(fib(10)); // 55n\n",
    "console.log(fib(-6)); // -8n\n",
    "console.log(fib(-10)); // -55n\n",
    "console.log(fib(2000000)); // Colossal Fibonacci number (BigInt)\n",
    "```"
   ]
  },
  {
   "cell_type": "markdown",
   "id": "eb269978",
   "metadata": {},
   "source": [
    "## Fibonacci Identity and Fast Doubling"
   ]
  },
  {
   "cell_type": "markdown",
   "id": "f604b663",
   "metadata": {},
   "source": [
    "The Fibonacci sequence can allows us to compute `fib(n)` and `fib(n+1)` simultaneously using matrix exponentiation. This is also known as the **fast doubling** method."
   ]
  },
  {
   "cell_type": "markdown",
   "id": "c89428db",
   "metadata": {},
   "source": [
    "1. **Matrix Representation:** The Fibonacci sequence can be represented using the matrix multiplication:\n",
    "\n",
    "$$\n",
    "\\begin{bmatrix}\n",
    " F(n+1) \\ F(n) \n",
    " \\\\ F(n) \\ F(n-1)\n",
    "\\end{bmatrix}\n",
    "=\n",
    "\\begin{bmatrix}\n",
    "1 \\ 1\n",
    "\\\\ 1 \\ 0\n",
    "\\end{bmatrix}^n \n",
    "$$\n",
    "\n",
    "A more efficient approach for computing Fibonacci numbers uses the fast \n",
    "doubling formula, which computes both `fib(n)` and `fib(n+1)` in each \n",
    "recursive call. This is much  faster than calculating Fibonacci numbers sequentially."
   ]
  },
  {
   "cell_type": "markdown",
   "id": "0968d140",
   "metadata": {},
   "source": [
    "2. **Fast Doubling Formula:** The fast doubling approach is based on the following formulas:\n",
    "\n",
    "$$\n",
    "\\begin{matrix}\n",
    " &  \\\\ F(2k) = F(k) \\bullet [2F(k+1) - F(k)]\n",
    " &  \\\\ F(2k+1) = F(k+1)^2 + F(k)^2\n",
    "\\end{matrix}\n",
    "$$\n",
    "\n",
    "These formulas allow us to compute `F(2k)` and `F(2k+1)` directly from smaller Fibonacci numbers `F(k)` and `F(k+1)`."
   ]
  },
  {
   "cell_type": "markdown",
   "id": "6067d7a5",
   "metadata": {},
   "source": [
    "## Code Breakdown"
   ]
  },
  {
   "cell_type": "markdown",
   "id": "fe9de505",
   "metadata": {},
   "source": [
    "**`calc(n)` Function:**\n",
    "\n",
    "The `calc` function is the core of the fast doubling method. It calculates Fibonacci \n",
    "numbers using the **fast doubling approach recursively**."
   ]
  },
  {
   "cell_type": "markdown",
   "id": "c257b1b6",
   "metadata": {},
   "source": [
    "```js\n",
    "let calc = (n) => {\n",
    "    if (n === 0) {\n",
    "        return [BigInt(0), BigInt(1)];\n",
    "    } else if (n === 1) {\n",
    "        return [BigInt(1), BigInt(1)];\n",
    "    } else {\n",
    "        let [x, y] = calc(Math.floor(n / 2));\n",
    "        let h = x * (2n * y - x);\n",
    "        let q = y * y + x * x;\n",
    "        return n % 2 === 0 ? [h, q] : [q, h + q];\n",
    "    }\n",
    "}\n",
    "```"
   ]
  },
  {
   "cell_type": "markdown",
   "id": "4d860ba1",
   "metadata": {},
   "source": [
    "1. **Base Cases:**\n",
    "-  `num === 0`: The Fibonacci number `fib(0)` is `0`, and `fib(1)` is `1`. Therefore, the function returns the tuple `[0, 1]`.\n",
    "-  `num === 1`: The Fibonacci number `fib(1)` is `1`, so it returns `[1, 1]`. This is the base case for recursion."
   ]
  },
  {
   "cell_type": "markdown",
   "id": "7d52d38e",
   "metadata": {},
   "source": [
    "2. **Recursive Case:**\n",
    "-  For any other `num > 1`, the function calculates `fib(num)` by first recursively calculating Fibonacci numbers for `num // 2`. This splits the problem into smaller sub problems, which is where the \"doubling\" happens.\n",
    "-  It calls `calc(Math.floor(num / 2))` to get the Fibonacci numbers for `num // 2`, returning a tuple `[x, y]`, where:\n",
    "\t-  `a = fib(k)`\n",
    "\t-  `b = fib(k+1)` (where `k = num // 2`)."
   ]
  },
  {
   "cell_type": "markdown",
   "id": "73b46b79",
   "metadata": {},
   "source": [
    "3. **Fast Doubling Formulas:**\n",
    "-  For even `num = 2k`, the Fibonacci number is computed as:\n",
    "\t- This is calculated by `h = x * (2n * y - x)`.\n",
    "    \n",
    "$$\n",
    "\\\\ F(2k) = F(k) \\bullet [2F(k+1) - F(k)]\n",
    "$$\n",
    "\n",
    "-  For odd `num = 2k + 1`, the Fibonacci number is:\n",
    "\t-  This is calculated by `q = y * y + x * x`\n",
    "\n",
    "$$\n",
    "\\\\ F(2k+1) = F(k+1)^2 + F(k)^2\n",
    "$$"
   ]
  },
  {
   "cell_type": "markdown",
   "id": "942c1656",
   "metadata": {},
   "source": [
    "4. **Return the Result:**\n",
    "-  If `num` is even, the function returns `[h, q]` (corresponds to `[fib(2k), fib(2k+1)]`).\n",
    "-  If `num` is odd, the function returns `[q, h + q]` (corresponds to `[fib(2k+1), fib(2k+2)]`).\n",
    "\n",
    "The result of the `calc` function is a tuple `[fib(num), fib(num + 1)]`.\n",
    "\n",
    "**`fib(n)` function:**\n",
    "\n",
    "The `fib(n)` function is a wrapper around `calc(n)` that handles both positive and \n",
    "negative Fibonacci numbers. Fibonacci numbers for negative indices can be \n",
    "computed based on the identity: \n",
    "\n",
    "$$\n",
    "\\\\ F(-n) = (-1)^{n+1} \\bullet F(n)\n",
    "$$\n",
    "\n",
    "This formula ensures that Fibonacci numbers for negative indices alternated in \n",
    "sign depending on whether `n` is even or odd."
   ]
  },
  {
   "cell_type": "markdown",
   "id": "4512c0cd",
   "metadata": {},
   "source": [
    "```js\n",
    "let fib = (n) => {\n",
    "    if (n >= 0) {\n",
    "        return calc(n)[0];\n",
    "    } else {\n",
    "        return n % 2 === 0 ? -calc(-n)[0] : calc(-n)[0];\n",
    "    }\n",
    "}\n",
    "```"
   ]
  },
  {
   "cell_type": "markdown",
   "id": "ea9c56a4",
   "metadata": {},
   "source": [
    "1. **For Positive `n`:**\n",
    "-  If `n` is non-negative, it simply calls `calc(n)` and returns the first element of the result tuple `fib(n)`.\n",
    "\n",
    "2. **For Negative `n`:**\n",
    "-  For negative `n`, it uses the property that `F(-n) = (-1)^{n+1} * F(n)` to adjust the sign of the result.\n",
    "-  If `n` is even, it negates the result (`-calc(-num)[0]`).\n",
    "-  If `n` is odd, it leaves the result as is (`calc(-num)[0]`).\n"
   ]
  },
  {
   "cell_type": "markdown",
   "id": "4ea1fe03",
   "metadata": {},
   "source": [
    "---"
   ]
  },
  {
   "cell_type": "markdown",
   "id": "96420668",
   "metadata": {},
   "source": [
    "## Summary"
   ]
  },
  {
   "cell_type": "markdown",
   "id": "da9cb5c6",
   "metadata": {},
   "source": [
    "-  **Fast Doubling:** The `calc(n)` function computes both `fib(n)` and `fib(n+1)` in recursive and logarithmic\n",
    "\n",
    "-  **Logarithmic Time Complexity:** The time complexity of the `calc(n)` function is `O(log n)`, because each recursive step reduces `n` by half (`num // 2`), and thus the number of recursive calls in logarithmic.\n",
    "\n",
    "-  **[`BigInt()`](https://developer.mozilla.org/en-US/docs/Web/JavaScript/Reference/Global_Objects/BigInt) Support:** The use of `BigInt()` ensures the Fibonacci numbers are computed with full precision, even for extremely large numbers like those for `n = 2,000,000`.\n",
    "\n",
    "-  **Handling Negative Fibonacci Numbers:** The function handles negative Fibonacci indices by alternating the sign of the result using the identity `F(-n) = (-1)^{n+1} * F(n)`."
   ]
  },
  {
   "cell_type": "markdown",
   "id": "1fb4ae85",
   "metadata": {},
   "source": [
    "### Performance Consideration:\n",
    "\n",
    "-  **Space Complexity:** The space complexity is `O(log n)` because the depth of the recursion tree is proportional to `log(n)`.\n",
    "\n",
    "-  **Time Complexity:** The time complexity is `O(log n)` because each recursive call divides `n` by 2, and we perform constant work for each level of recursion (apart from the recursive calls themselves)."
   ]
  }
 ],
 "metadata": {
  "kernelspec": {
   "display_name": "Python 3 (ipykernel)",
   "language": "python",
   "name": "python3"
  },
  "language_info": {
   "codemirror_mode": {
    "name": "ipython",
    "version": 3
   },
   "file_extension": ".py",
   "mimetype": "text/x-python",
   "name": "python",
   "nbconvert_exporter": "python",
   "pygments_lexer": "ipython3",
   "version": "3.9.2"
  }
 },
 "nbformat": 4,
 "nbformat_minor": 5
}
